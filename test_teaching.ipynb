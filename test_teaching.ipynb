{
 "cells": [
  {
   "cell_type": "code",
   "execution_count": 35,
   "metadata": {},
   "outputs": [],
   "source": [
    "import teaching\n",
    "from teaching import TeacherExplainer"
   ]
  },
  {
   "cell_type": "code",
   "execution_count": null,
   "metadata": {},
   "outputs": [],
   "source": [
    "import torch\n",
    "import torch.optim as optim\n",
    "import numpy as np\n",
    "import torch.nn as nn\n",
    "import torch.nn.functional as F\n",
    "from matplotlib import pyplot as plt\n",
    "import math"
   ]
  },
  {
   "cell_type": "markdown",
   "metadata": {},
   "source": [
    "# Data Setup"
   ]
  },
  {
   "cell_type": "markdown",
   "metadata": {},
   "source": [
    "As an illustrative setting where we can visually inspect the teaching set, we perform experiments on  two dimensional Gaussian mixture data.  The covariate space is $\\mathcal{X}= \\mathbb{R}^2$ and target $\\mathcal{Y} = \\{0,1\\}$, we assume that there exists two  sub-populations in the data denoted $A=1$ and $A=0$.\n",
    "Furthermore, $X|(Y=y,A=a)$ is normally distributed according to $ \\mathcal{N}(\\mu_{y,a}, I)$. The group proportion is $P(A=1) =0.5$ and the means are sampled from a uniform distribution. \n",
    "The AI follows the Bayes solution for group $A=1$ which here corresponds to a hyperplane and the human classifier follows the Bayes solution for group $A=0$, which is another hyperplane. We assume the human's prior rejector is to reject based on a tresholding of the predictor confidence i.e. $g_0(x) = I \\{ ||h(x)|| \\leq \\epsilon \\} $ .  We assume that the similarity kernel is the RBF kernel $K(x,x')= e^{-||x-x'||^2}$."
   ]
  },
  {
   "cell_type": "code",
   "execution_count": 3,
   "metadata": {},
   "outputs": [],
   "source": [
    "\n",
    "def sample(mu, var, nb_samples=500):\n",
    "    \"\"\"\n",
    "    sample guassian data\n",
    "    :param mu: torch.Tensor (features)\n",
    "    :param var: torch.Tensor (features) (note: zero covariance)\n",
    "    :return: torch.Tensor (nb_samples, features)\n",
    "    \"\"\"\n",
    "    out = []\n",
    "    for i in range(nb_samples):\n",
    "        out += [\n",
    "            torch.normal(mu, var.sqrt())\n",
    "        ]\n",
    "    return torch.stack(out, dim=0)\n",
    "\n",
    "    "
   ]
  },
  {
   "cell_type": "code",
   "execution_count": 4,
   "metadata": {},
   "outputs": [],
   "source": [
    "\n",
    "class Linear_net_sig(nn.Module):\n",
    "    ''' linear classifier '''\n",
    "    def __init__(self, input_dim):\n",
    "        super(Linear_net_sig, self).__init__()\n",
    "        # an affine operation: y = Wx + b\n",
    "        self.fc1 = nn.Linear(input_dim, 1)\n",
    "        self.sigmoid = nn.Sigmoid()\n",
    "\n",
    "    def forward(self, x):\n",
    "        x = self.fc1(x)\n",
    "        x = self.sigmoid(x)\n",
    "        return x\n",
    "\n",
    "def run_classifier_sig(net, data_x, data_y, n_epochs = 10000):\n",
    "    '''\n",
    "    training code for linear classifier\n",
    "    '''\n",
    "    BCE = torch.nn.BCELoss(size_average=True)\n",
    "    optimizer = optim.SGD(net.parameters(), lr=0.01, momentum=0)\n",
    "    #scheduler = torch.optim.lr_scheduler.CosineAnnealingLR(optimizer, 1000*10000)\n",
    "    for epoch in range(n_epochs):  # loop over the dataset multiple times\n",
    "\n",
    "        running_loss = 0.0\n",
    "        # get the inputs; data is a list of [inputs, labels]\n",
    "        inputs = data_x\n",
    "        labels = data_y\n",
    "        order = np.array(range(len(data_x)))\n",
    "        np.random.shuffle(order)\n",
    "        # in-place changing of values\n",
    "        inputs[np.array(range(len(data_x)))] = inputs[order]\n",
    "        labels[np.array(range(len(data_x)))] = labels[order]\n",
    "        # zero the parameter gradients\n",
    "\n",
    "        # forward + backward + optimize\n",
    "        outputs = net(inputs)[:,0]\n",
    "\n",
    "        loss = BCE(outputs, labels*1.0) \n",
    "\n",
    "        optimizer.zero_grad()\n",
    "        loss.backward()\n",
    "        optimizer.step()\n",
    "        #scheduler.step()\n",
    "        running_loss += loss.item()\n",
    "        if epoch % 10000 == 0:\n",
    "            print(\"loss \" + str(loss.item()))\n",
    "\n",
    "    #print('Finished Training')\n",
    "\n",
    "\n",
    "def test_classifier_sig(net, data_x, data_y):\n",
    "    ''' testing code for linear classifier'''\n",
    "    correct = 0\n",
    "    total = 0\n",
    "    with torch.no_grad():\n",
    "        inputs =  data_x\n",
    "        labels = data_y\n",
    "        outputs = net(inputs)\n",
    "        predicted = torch.round(outputs.data)\n",
    "        total = labels.size(0)\n",
    "        for i in range(total):\n",
    "            correct += predicted[i].item() == labels[i].item()\n",
    "        #correct = (predicted == labels).sum()\n",
    "    print('Accuracy of the network on the 10000 test images: %d %%' % (\n",
    "        100 * correct / total))\n",
    "    \n",
    "def mscatter(x,y,ax=None, m=None, **kw):\n",
    "    import matplotlib.markers as mmarkers\n",
    "    if not ax: ax=plt.gca()\n",
    "    sc = ax.scatter(x,y,**kw)\n",
    "    if (m is not None) and (len(m)==len(x)):\n",
    "        paths = []\n",
    "        for marker in m:\n",
    "            if isinstance(marker, mmarkers.MarkerStyle):\n",
    "                marker_obj = marker\n",
    "            else:\n",
    "                marker_obj = mmarkers.MarkerStyle(marker)\n",
    "            path = marker_obj.get_path().transformed(\n",
    "                        marker_obj.get_transform())\n",
    "            paths.append(path)\n",
    "        sc.set_paths(paths)\n",
    "    return sc\n",
    "def conv_to_color(arr):\n",
    "    cols = []\n",
    "    for a in arr:\n",
    "        if a == 1:\n",
    "            cols.append(\"blue\")\n",
    "        else:\n",
    "            cols.append(\"red\")\n",
    "    return cols"
   ]
  },
  {
   "cell_type": "code",
   "execution_count": 19,
   "metadata": {},
   "outputs": [
    {
     "data": {
      "image/png": "[encoded data removed]",
      "text/plain": [
       "<Figure size 432x288 with 1 Axes>"
      ]
     },
     "metadata": {},
     "output_type": "display_data"
    }
   ],
   "source": [
    "'''\n",
    "generate data for each cluster\n",
    "'''\n",
    "torch.manual_seed(12)\n",
    "d = 2\n",
    "total_samples = 500\n",
    "mean_scale = 12\n",
    "variance = 1.0\n",
    "group_proportion = 0.5\n",
    "\n",
    "cluster1_mean = torch.rand(d)*mean_scale\n",
    "cluster1_var = torch.tensor(variance)#torch.rand(d)*d\n",
    "cluster1 = sample(\n",
    "    cluster1_mean,\n",
    "    cluster1_var,\n",
    "    nb_samples= math.floor(total_samples * group_proportion * 0.5 )\n",
    ")\n",
    "cluster1_labels = torch.ones([math.floor(total_samples * group_proportion * 0.5 )], dtype=torch.long)\n",
    "cluster2_mean = torch.rand(d)*mean_scale\n",
    "cluster2_var = torch.tensor(variance)#torch.rand(d)*d\n",
    "cluster2 = sample(\n",
    "    cluster2_mean,\n",
    "    cluster2_var,\n",
    "    nb_samples= math.floor(total_samples * group_proportion * 0.5 )\n",
    ")\n",
    "cluster2_labels = torch.zeros([math.floor(total_samples * group_proportion * 0.5 )], dtype=torch.long)\n",
    "cluster3_mean = torch.rand(d)*mean_scale\n",
    "cluster3_var = torch.tensor(variance)#torch.rand(d)*d\n",
    "cluster3 = sample(\n",
    "    cluster3_mean,\n",
    "    cluster3_var,\n",
    "    nb_samples= math.floor(total_samples * (1-group_proportion) * 0.5 )\n",
    ")\n",
    "cluster3_labels = torch.ones([math.floor(total_samples * (1-group_proportion) * 0.5 )], dtype=torch.long)\n",
    "\n",
    "cluster4_mean = torch.rand(d)*mean_scale\n",
    "cluster4_var = torch.tensor(variance)#torch.rand(d)*d\n",
    "cluster4 = sample(\n",
    "    cluster4_mean,\n",
    "    cluster4_var,\n",
    "    nb_samples= math.floor(total_samples * (1-group_proportion) * 0.5 )\n",
    ")\n",
    "cluster4_labels = torch.zeros([math.floor(total_samples * (1-group_proportion) * 0.5 )], dtype=torch.long)\n",
    "\n",
    "# test data\n",
    "cluster1_test = sample(\n",
    "    cluster1_mean,\n",
    "    cluster1_var,\n",
    "    nb_samples= math.floor(total_samples * group_proportion * 0.5 )\n",
    ")\n",
    "cluster1_labels_test = torch.ones([math.floor(total_samples * group_proportion * 0.5 )], dtype=torch.long)\n",
    "\n",
    "cluster2_test = sample(\n",
    "    cluster2_mean,\n",
    "    cluster2_var,\n",
    "    nb_samples= math.floor(total_samples * group_proportion * 0.5 )\n",
    ")\n",
    "cluster2_labels_test = torch.zeros([math.floor(total_samples * group_proportion * 0.5 )], dtype=torch.long)\n",
    "\n",
    "cluster3_test = sample(\n",
    "    cluster3_mean,\n",
    "    cluster3_var,\n",
    "    nb_samples= math.floor(total_samples * (1-group_proportion) * 0.5 )\n",
    ")\n",
    "cluster3_labels_test = torch.ones([math.floor(total_samples * (1-group_proportion) * 0.5 )], dtype=torch.long)\n",
    "\n",
    "cluster4_test = sample(\n",
    "    cluster4_mean,\n",
    "    cluster4_var,\n",
    "    nb_samples= math.floor(total_samples * (1-group_proportion) * 0.5 )\n",
    ")\n",
    "cluster4_labels_test = torch.zeros([math.floor(total_samples * (1-group_proportion) * 0.5 )], dtype=torch.long)\n",
    "\n",
    "fig, ax = plt.subplots(1)\n",
    "x1 = cluster1.numpy()\n",
    "x2 = cluster2.numpy()\n",
    "x3 = cluster3.numpy()\n",
    "x4 = cluster4.numpy()\n",
    "epsilon = 0.8\n",
    "ax.set_facecolor('white')\n",
    "#ax.set(xlim=(-4, 10), ylim=(-4, 10))\n",
    "#ax.vlines([-12,-6,0,6,12.3],-12,12.3)\n",
    "#ax.hlines([-12,-6,0,6,12.3],-12,12.3)\n",
    "#ax.plot([x1h, x2h], [y1h, y2h], color='red', marker='x',label = \"human\")\n",
    "#ax.plot([x1m, x2m], [y1m, y2m], color='blue', marker='x',label = \"machine\")\n",
    "\n",
    "scatter = mscatter(x1[:, 0], x1[:, 1],  cmap='RdBu',  ax=ax,s=100, label=\"human 0\")\n",
    "scatter = mscatter(x2[:, 0], x2[:, 1], cmap='RdBu',  ax=ax,s=100, label=\"human 1\")\n",
    "scatter = mscatter(x3[:, 0], x3[:, 1],  cmap='RdBu',  ax=ax,s=100, label=\"machine 0\")\n",
    "scatter = mscatter(x4[:, 0], x4[:, 1],  cmap='RdBu',  ax=ax,s=100, label=\"machine 1\")\n",
    "plt.legend()\n",
    "plt.show()"
   ]
  },
  {
   "cell_type": "code",
   "execution_count": null,
   "metadata": {},
   "outputs": [],
   "source": [
    "print(\"Obtaining AI\")\n",
    "# AI is linear model on two clusters\n",
    "net_machine = Linear_net_sig(d)\n",
    "data_x = torch.cat([cluster3, cluster4])\n",
    "data_y = torch.cat([cluster3_labels, cluster4_labels])\n",
    "run_classifier_sig(net_machine, data_x, data_y, 50000)\n",
    "\n",
    "print(\"Obtaining human\")\n",
    "# Human is linear model on remaining two clusters\n",
    "net_human = Linear_net_sig(d)\n",
    "data_x = torch.cat([cluster1, cluster2])\n",
    "data_y = torch.cat([cluster1_labels, cluster2_labels])\n",
    "run_classifier_sig(net_human, data_x, data_y, 50000)\n"
   ]
  },
  {
   "cell_type": "code",
   "execution_count": 21,
   "metadata": {},
   "outputs": [],
   "source": [
    "data_x = torch.cat([cluster1, cluster2, cluster3, cluster4])\n",
    "data_y = torch.cat([cluster1_labels, cluster2_labels, cluster3_labels, cluster4_labels])\n",
    "data_x_np = data_x.numpy()\n",
    "data_y_np = data_y.numpy()\n",
    "outputs = net_human(data_x)\n",
    "predicted_hum = torch.round(outputs.data).numpy()[:,0]\n",
    "outputs = net_machine(data_x)\n",
    "predicted_mach = torch.round(outputs.data).numpy()[:,0]"
   ]
  },
  {
   "cell_type": "code",
   "execution_count": 22,
   "metadata": {},
   "outputs": [],
   "source": [
    "# prior human rejector thresholds the human's confidence to epsilon\n",
    "prior_rejector = []\n",
    "epsilon = 0.9\n",
    "with torch.no_grad():\n",
    "    inputs =  data_x\n",
    "    labels = data_y\n",
    "    outputs = net_human(inputs)\n",
    "    predicted = torch.round(outputs.data)\n",
    "    for i in range(len(inputs)):\n",
    "        r_score = max(1 - outputs.data[i].item(), outputs.data[i].item())\n",
    "        r = 0\n",
    "        if r_score <  epsilon:\n",
    "            r = 1\n",
    "        else:\n",
    "            r =  0\n",
    "        prior_rejector.append(r)"
   ]
  },
  {
   "cell_type": "code",
   "execution_count": 23,
   "metadata": {},
   "outputs": [],
   "source": [
    "from sklearn.metrics.pairwise import rbf_kernel\n",
    "from sklearn.metrics import accuracy_score\n",
    "kernel = rbf_kernel # K(.,.)\n",
    "metric_y = accuracy_score # metric\n"
   ]
  },
  {
   "cell_type": "markdown",
   "metadata": {},
   "source": [
    "## Consistent Radius Teaching"
   ]
  },
  {
   "cell_type": "markdown",
   "metadata": {},
   "source": [
    "Create teacher explainer"
   ]
  },
  {
   "cell_type": "code",
   "execution_count": 24,
   "metadata": {},
   "outputs": [],
   "source": [
    "teacher = TeacherExplainer(data_x_np, data_y_np, predicted_hum, predicted_mach, prior_rejector, kernel, metric_y, 1, 5)"
   ]
  },
  {
   "cell_type": "markdown",
   "metadata": {},
   "source": [
    "get teaching points"
   ]
  },
  {
   "cell_type": "code",
   "execution_count": null,
   "metadata": {},
   "outputs": [],
   "source": [
    "teaching_x, teaching_gammas, teaching_labels, teaching_indices = teacher.get_teaching_examples(True)"
   ]
  },
  {
   "cell_type": "code",
   "execution_count": 26,
   "metadata": {},
   "outputs": [],
   "source": [
    "# plotting helpers\n",
    "def test_posterior(net_hum, net_mach, epsilon, knn_learner, data_x, data_y):\n",
    "    correct = 0\n",
    "    correct_sys = 0\n",
    "    exp = 0\n",
    "    exp_total = 0\n",
    "    total = 0\n",
    "    real_total = 0\n",
    "    alone_correct = 0\n",
    "    mistakes = []\n",
    "    rejector_preds = []\n",
    "    with torch.no_grad():\n",
    "        inputs =  data_x\n",
    "        labels = data_y\n",
    "        m = net_mach(inputs)\n",
    "        predicted_exp = torch.round(m.data)\n",
    "        outputs = net_hum(inputs)\n",
    "        predicted = torch.round(outputs.data)\n",
    "        post_preds = knn_learner.predict(inputs.numpy(), teacher.prior_rejector_preds)\n",
    "        for i in range(len(inputs)):\n",
    "            r = post_preds[i]\n",
    "            if r == -1: # if no point in  ball\n",
    "                r_score = max(1 - outputs.data[i].item(), outputs.data[i].item())\n",
    "                if r_score <  epsilon:\n",
    "                    r = 1\n",
    "                else:\n",
    "                    r =  0\n",
    "            rejector_preds.append(r)\n",
    "            if r == 1:\n",
    "                exp += (predicted_exp[i] == labels[i]).item()\n",
    "                correct_sys += (predicted_exp[i] == labels[i]).item()\n",
    "                mistakes.append((predicted_exp[i] == labels[i]).item()*1.0)\n",
    "                exp_total += 1\n",
    "            elif r == 0:\n",
    "                correct += (predicted[i] == labels[i]).item() \n",
    "                correct_sys += (predicted[i] == labels[i]).item()\n",
    "                mistakes.append((predicted[i] == labels[i]).item()*1.0)\n",
    "                total += 1\n",
    "        real_total += labels.size(0)\n",
    "    cov = str(total) + str(\" out of\") + str(real_total)\n",
    "    to_print={\"coverage\":cov, \"system accuracy\": 100*correct_sys/real_total, \"expert accuracy\":100* exp/(exp_total+0.0002),\"classifier accuracy\":100*correct/(total+0.0001), \"alone classifier\": 100*alone_correct/real_total }\n",
    "    #print(to_print)\n",
    "    return mistakes, to_print, rejector_preds\n",
    "\n",
    "def plot_teaching(human_learner, points_chosen, gammas):\n",
    "    x1 = cluster1.numpy()\n",
    "    x2 = cluster2.numpy()\n",
    "    x3 = cluster3.numpy()\n",
    "    x4 = cluster4.numpy()\n",
    "    epsilon = 0.8\n",
    "    def Extract(lst, indx): \n",
    "        return [item[indx] for item in lst] \n",
    "\n",
    "    # get line human\n",
    "    weights = net_human.fc1.weight.detach().numpy()[0]\n",
    "    bias = net_human.fc1.bias.detach().numpy()[0]\n",
    "    x1h =  -100\n",
    "    x2h = 100\n",
    "    y1h = -(1/weights[1])*(weights[0]*x1h + bias)\n",
    "    y2h = -(1/weights[1])*(weights[0]*x2h + bias)\n",
    "\n",
    "    # get line machine\n",
    "    weights = net_machine.fc1.weight.detach().numpy()[0]\n",
    "    bias = net_machine.fc1.bias.detach().numpy()[0]\n",
    "    x1m =  -100\n",
    "    x2m = 100\n",
    "    y1m = -(1/weights[1])*(weights[0]*x1m + bias)\n",
    "    y2m = -(1/weights[1])*(weights[0]*x2m + bias)\n",
    "\n",
    "    data_x = torch.cat([cluster1])\n",
    "    data_y = torch.cat([cluster1_labels])\n",
    "    mists1, _, _ = test_posterior(net_human, net_machine, epsilon, human_learner, data_x, data_y)\n",
    "\n",
    "    data_x = torch.cat([cluster2])\n",
    "    data_y = torch.cat([cluster2_labels])\n",
    "    mists2, _, _ = test_posterior(net_human, net_machine, epsilon, human_learner, data_x, data_y)\n",
    "\n",
    "    data_x = torch.cat([cluster3])\n",
    "    data_y = torch.cat([cluster3_labels])\n",
    "    mists3, _, _ = test_posterior(net_human, net_machine, epsilon, human_learner, data_x, data_y)\n",
    "\n",
    "    data_x = torch.cat([cluster4])\n",
    "    data_y = torch.cat([cluster4_labels])\n",
    "    mists4, _, _ = test_posterior(net_human, net_machine, epsilon, human_learner, data_x, data_y)\n",
    "\n",
    "\n",
    "    fig, ax = plt.subplots(1)\n",
    "\n",
    "    ax.set_facecolor('white')\n",
    "    ax.set(xlim=(-2, 15), ylim=(-2, 15))\n",
    "    #ax.vlines([-12,-6,0,6,12.3],-12,12.3)\n",
    "    #ax.hlines([-12,-6,0,6,12.3],-12,12.3)\n",
    "    ax.plot([x1h, x2h], [y1h, y2h], color='black', marker='x',label = \"human predictor\")\n",
    "    ax.plot([x1m, x2m], [y1m, y2m], color='green', marker='x',label = \"AI predictor\")\n",
    "    ax.scatter(x1[:, 0], x1[:, 1], c = conv_to_color(mists1), cmap='RdBu',marker ='o' )\n",
    "    ax.scatter(x2[:, 0], x2[:, 1], c = conv_to_color(mists2), cmap='RdBu',marker ='x' )\n",
    "    ax.scatter(x3[:, 0], x3[:, 1], c = conv_to_color(mists3), cmap='RdBu', marker ='o' )\n",
    "    ax.scatter(x4[:, 0], x4[:, 1], c = conv_to_color(mists4), cmap='RdBu', marker ='x' )\n",
    "\n",
    "    ax.scatter(points_chosen[:,0], points_chosen[:,1], label = \"points chosen\", marker = \"X\", color=\"green\",s=70 )\n",
    "    gs = np.array(gammas)\n",
    "    gs = np.sqrt(-2*np.log(gs))\n",
    "    for i in range(len(gs)):\n",
    "        if i == 0:\n",
    "            circle = plt.Circle((points_chosen[i][0], points_chosen[i][1]), gs[i], color='b', fill=False, label =\"radius\")\n",
    "        else:\n",
    "            circle = plt.Circle((points_chosen[i][0], points_chosen[i][1]), gs[i], color='b', fill=False)\n",
    "\n",
    "        ax.add_patch(circle)\n",
    "\n",
    "    plt.legend()\n",
    "    plt.show()"
   ]
  },
  {
   "cell_type": "code",
   "execution_count": 27,
   "metadata": {},
   "outputs": [
    {
     "data": {
      "image/png": "[encoded data removed]",
      "text/plain": [
       "<Figure size 432x288 with 1 Axes>"
      ]
     },
     "metadata": {},
     "output_type": "display_data"
    }
   ],
   "source": [
    "# plot teaching points and gammas\n",
    "plot_teaching(teacher.human_learner, teaching_x, teaching_gammas)"
   ]
  },
  {
   "cell_type": "markdown",
   "metadata": {},
   "source": [
    "## Greedy Radius Teaching\n",
    "some errors with the guassian data for certain configurations, being updated currently."
   ]
  },
  {
   "cell_type": "code",
   "execution_count": 37,
   "metadata": {},
   "outputs": [],
   "source": [
    "teacher = TeacherExplainer(data_x_np, data_y_np, predicted_hum, predicted_mach, prior_rejector, kernel, metric_y, 0, 5)"
   ]
  },
  {
   "cell_type": "code",
   "execution_count": null,
   "metadata": {},
   "outputs": [],
   "source": [
    "teaching_x, teaching_gammas, teaching_labels, teaching_indices = teacher.get_teaching_examples(True)"
   ]
  },
  {
   "cell_type": "code",
   "execution_count": null,
   "metadata": {},
   "outputs": [],
   "source": [
    "# plot teaching points and gammas\n",
    "plot_teaching(teacher.human_learner, teaching_x, teaching_gammas)"
   ]
  }
 ],
 "metadata": {
  "kernelspec": {
   "display_name": "Python 3",
   "language": "python",
   "name": "python3"
  },
  "language_info": {
   "codemirror_mode": {
    "name": "ipython",
    "version": 3
   },
   "file_extension": ".py",
   "mimetype": "text/x-python",
   "name": "python",
   "nbconvert_exporter": "python",
   "pygments_lexer": "ipython3",
   "version": "3.6.7"
  }
 },
 "nbformat": 4,
 "nbformat_minor": 4
}
